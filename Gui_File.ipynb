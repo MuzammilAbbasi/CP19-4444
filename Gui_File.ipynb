{
 "cells": [
  {
   "cell_type": "code",
   "execution_count": 3,
   "metadata": {},
   "outputs": [],
   "source": [
    "import tkinter as tk\n",
    "from tkinter import messagebox as mb\n",
    "from tkinter import Frame\n",
    "\n",
    "m = tk.Tk()\n",
    "def su():\n",
    "    print('abdulbasit')\n",
    "m.title('Program')\n",
    "p = Frame(m)\n",
    "p.grid()\n",
    "\n",
    "m.geometry(\"600x600\")\n",
    "l1 = tk.Button(m,text='increment ',command = su)\n",
    "l1.grid(row=3,column=3,padx=100,pady=100)\n",
    "l2 = tk.Button(m,text='execute ',command = su)\n",
    "l2.grid(row=2,column=2,padx=15,pady=20)\n",
    "l3 = tk.Label(m,text='program ')\n",
    "l3.grid(row=1,column=1,padx=10,pady=15)\n",
    "e1=tk.Entry(p)\n",
    "e1.grid(row=4,column=4)\n",
    "m.mainloop()"
   ]
  },
  {
   "cell_type": "code",
   "execution_count": 2,
   "metadata": {},
   "outputs": [
    {
     "name": "stdout",
     "output_type": "stream",
     "text": [
      "2\n",
      "2\n"
     ]
    }
   ],
   "source": [
    "import tkinter as tk\n",
    "from tkinter import messagebox as mb\n",
    "from tkinter import Frame\n",
    "\n",
    "m = tk.Tk()\n",
    "def su():\n",
    "    o = 1+1\n",
    "    print(o)\n",
    "    mb.showinfo(\"Tittle\",\"pakistan\")\n",
    "    \n",
    "m.geometry(\"400x200\")\n",
    "m.title('Program')\n",
    "l1 = tk.Button(m,text='program',command = su,fg=\"Red\",height=10,width=30)\n",
    "l2 = tk.Button(m,text='execute',command = su)\n",
    "l3 = tk.Label(m,text='abdulBasit')\n",
    "l3.pack()\n",
    "l1.pack()\n",
    "l2.pack()\n",
    "m.mainloop()"
   ]
  },
  {
   "cell_type": "code",
   "execution_count": 8,
   "metadata": {},
   "outputs": [
    {
     "ename": "IndentationError",
     "evalue": "unindent does not match any outer indentation level (<tokenize>, line 4)",
     "output_type": "error",
     "traceback": [
      "\u001b[1;36m  File \u001b[1;32m\"<tokenize>\"\u001b[1;36m, line \u001b[1;32m4\u001b[0m\n\u001b[1;33m    x+=1\u001b[0m\n\u001b[1;37m    ^\u001b[0m\n\u001b[1;31mIndentationError\u001b[0m\u001b[1;31m:\u001b[0m unindent does not match any outer indentation level\n"
     ]
    }
   ],
   "source": []
  },
  {
   "cell_type": "code",
   "execution_count": null,
   "metadata": {},
   "outputs": [],
   "source": []
  }
 ],
 "metadata": {
  "kernelspec": {
   "display_name": "Python 3",
   "language": "python",
   "name": "python3"
  },
  "language_info": {
   "codemirror_mode": {
    "name": "ipython",
    "version": 3
   },
   "file_extension": ".py",
   "mimetype": "text/x-python",
   "name": "python",
   "nbconvert_exporter": "python",
   "pygments_lexer": "ipython3",
   "version": "3.7.1"
  }
 },
 "nbformat": 4,
 "nbformat_minor": 2
}
